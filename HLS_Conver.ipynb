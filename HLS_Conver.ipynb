{
  "nbformat": 4,
  "nbformat_minor": 0,
  "metadata": {
    "colab": {
      "provenance": [],
      "gpuType": "T4",
      "authorship_tag": "ABX9TyPGNF4MLx5i2X9yT3yhZFUa",
      "include_colab_link": true
    },
    "kernelspec": {
      "name": "python3",
      "display_name": "Python 3"
    },
    "language_info": {
      "name": "python"
    },
    "accelerator": "GPU"
  },
  "cells": [
    {
      "cell_type": "markdown",
      "metadata": {
        "id": "view-in-github",
        "colab_type": "text"
      },
      "source": [
        "<a href=\"https://colab.research.google.com/github/hirusha-234/HLS-Convert-/blob/main/HLS_Conver.ipynb\" target=\"_parent\"><img src=\"https://colab.research.google.com/assets/colab-badge.svg\" alt=\"Open In Colab\"/></a>"
      ]
    },
    {
      "cell_type": "code",
      "execution_count": null,
      "metadata": {
        "colab": {
          "base_uri": "https://localhost:8080/"
        },
        "id": "Ob9CjmZtgHkm",
        "outputId": "be2284b9-d3ee-44da-8b8c-fdd1c1086204"
      },
      "outputs": [
        {
          "output_type": "stream",
          "name": "stdout",
          "text": [
            "Mounted at /content/drive\n",
            "✅ Input folder created at: /content/drive/MyDrive/input_videos\n",
            "✅ Output folder created at: /content/drive/MyDrive/output_hls\n",
            "\n",
            "💪 GPU Detected: Tesla T4\n",
            "Installing FFmpeg with NVIDIA GPU (NVENC) support...\n",
            "W: Skipping acquire of configured file 'main/source/Sources' as repository 'https://r2u.stat.illinois.edu/ubuntu jammy InRelease' does not seem to provide it (sources.list entry misspelt?)\n",
            "Reading package lists... Done\n",
            "Building dependency tree... Done\n",
            "Reading state information... Done\n",
            "ffmpeg is already the newest version (7:4.4.2-0ubuntu0.22.04.1).\n",
            "0 upgraded, 0 newly installed, 0 to remove and 38 not upgraded.\n",
            "\n",
            "👉 Place your .mp4 file(s) in the 'input_videos' folder in your Drive, then run the next cell.\n"
          ]
        }
      ],
      "source": [
        "# ===========================================\n",
        "# 🔧 Step 1: Setup (with GPU Detection)\n",
        "# ===========================================\n",
        "from google.colab import drive\n",
        "import os, subprocess\n",
        "\n",
        "# Mount Google Drive\n",
        "drive.mount('/content/drive')\n",
        "\n",
        "# Base paths in your Google Drive\n",
        "drive_root = \"/content/drive/MyDrive\"\n",
        "input_path = os.path.join(drive_root, \"input_videos\")\n",
        "output_path = os.path.join(drive_root, \"output_hls\")\n",
        "\n",
        "# Create input/output folders if they don't exist\n",
        "os.makedirs(input_path, exist_ok=True)\n",
        "os.makedirs(output_path, exist_ok=True)\n",
        "\n",
        "print(f\"✅ Input folder created at: {input_path}\")\n",
        "print(f\"✅ Output folder created at: {output_path}\")\n",
        "\n",
        "# ===========================================\n",
        "# ⚙️ GPU Check\n",
        "# ===========================================\n",
        "gpu_info = subprocess.run(\"nvidia-smi --query-gpu=name --format=csv,noheader\", shell=True, capture_output=True, text=True)\n",
        "\n",
        "if gpu_info.returncode == 0 and gpu_info.stdout.strip():\n",
        "    gpu_name = gpu_info.stdout.strip()\n",
        "    print(f\"\\n💪 GPU Detected: {gpu_name}\")\n",
        "    print(\"Installing FFmpeg with NVIDIA GPU (NVENC) support...\")\n",
        "    !apt-get update -qq\n",
        "    !apt-get install -y ffmpeg\n",
        "    USE_GPU = True\n",
        "else:\n",
        "    print(\"\\n⚠️ No GPU detected or incompatible runtime. Using CPU encoding (slower).\")\n",
        "    !apt-get update -qq\n",
        "    !apt-get install -y ffmpeg\n",
        "    USE_GPU = False\n",
        "\n",
        "print(\"\\n👉 Place your .mp4 file(s) in the 'input_videos' folder in your Drive, then run the next cell.\")\n"
      ]
    },
    {
      "cell_type": "code",
      "source": [
        "import subprocess, time, os, sys\n",
        "\n",
        "# Auto-select encoder based on GPU availability\n",
        "encoder = \"h264_nvenc\" if \"USE_GPU\" in globals() and USE_GPU else \"libx264\"\n",
        "print(f\"⚙️ Using encoder: {encoder}\")\n",
        "\n",
        "# Get list of mp4 files in input folder\n",
        "video_files = [f for f in os.listdir(input_path) if f.lower().endswith(\".mp4\")]\n",
        "\n",
        "if not video_files:\n",
        "    print(\"⚠️ No .mp4 files found in your Google Drive 'input_videos' folder.\")\n",
        "else:\n",
        "    for file in video_files:\n",
        "        file_path = os.path.join(input_path, file)\n",
        "        basename = os.path.splitext(file)[0]\n",
        "        output_dir = os.path.join(output_path, basename)\n",
        "        os.makedirs(output_dir, exist_ok=True)\n",
        "\n",
        "        print(f\"\\n🎞️==============================\")\n",
        "        print(f\"🎬 Starting HLS Processing for: {file}\")\n",
        "        print(f\"📁 Input: {file_path}\")\n",
        "        print(f\"📂 Output folder: {output_dir}\")\n",
        "        print(f\"🕒 Started at: {time.strftime('%H:%M:%S')}\")\n",
        "        print(f\"==============================\\n\")\n",
        "\n",
        "        # Build ffmpeg command with selected encoder\n",
        "        ffmpeg_cmd = f\"\"\"\n",
        "        ffmpeg -hide_banner -y -i \"{file_path}\" -filter_complex \"\n",
        "        [0:v]split=6[v144][v240][v360][v480][v720][v1080];\n",
        "        [v144]scale=-2:144[v144out];\n",
        "        [v240]scale=-2:240[v240out];\n",
        "        [v360]scale=-2:360[v360out];\n",
        "        [v480]scale=-2:480[v480out];\n",
        "        [v720]scale=-2:720[v720out];\n",
        "        [v1080]scale=-2:1080[v1080out]\n",
        "        \" \\\n",
        "        -map [v144out] -c:v:0 {encoder} -preset fast -b:v:0 150k -c:a aac -b:a 64k -f hls -hls_time 6 -hls_playlist_type vod \"{output_dir}/144p.m3u8\" \\\n",
        "        -map [v240out] -c:v:1 {encoder} -preset fast -b:v:1 400k -c:a aac -b:a 64k -f hls -hls_time 6 -hls_playlist_type vod \"{output_dir}/240p.m3u8\" \\\n",
        "        -map [v360out] -c:v:2 {encoder} -preset fast -b:v:2 800k -c:a aac -b:a 128k -f hls -hls_time 6 -hls_playlist_type vod \"{output_dir}/360p.m3u8\" \\\n",
        "        -map [v480out] -c:v:3 {encoder} -preset fast -b:v:3 1200k -c:a aac -b:a 128k -f hls -hls_time 6 -hls_playlist_type vod \"{output_dir}/480p.m3u8\" \\\n",
        "        -map [v720out] -c:v:4 {encoder} -preset fast -b:v:4 2500k -c:a aac -b:a 128k -f hls -hls_time 6 -hls_playlist_type vod \"{output_dir}/720p.m3u8\" \\\n",
        "        -map [v1080out] -c:v:5 {encoder} -preset fast -b:v:5 5000k -c:a aac -b:a 192k -f hls -hls_time 6 -hls_playlist_type vod \"{output_dir}/1080p.m3u8\"\n",
        "        \"\"\"\n",
        "\n",
        "        print(\"🚀 Starting FFmpeg conversion...\\n\")\n",
        "\n",
        "        # Run ffmpeg and show live progress\n",
        "        process = subprocess.Popen(ffmpeg_cmd, shell=True, stderr=subprocess.PIPE, text=True)\n",
        "        for line in iter(process.stderr.readline, ''):\n",
        "            if \"frame=\" in line or \"time=\" in line or \"bitrate=\" in line:\n",
        "                sys.stdout.write(\"\\r\" + line.strip())\n",
        "                sys.stdout.flush()\n",
        "        process.wait()\n",
        "\n",
        "        print(\"\\n✅ FFmpeg finished encoding all resolutions.\")\n",
        "\n",
        "        # Create master playlist\n",
        "        master_playlist = \"\"\"#EXTM3U\n",
        "#EXT-X-VERSION:3\n",
        "\n",
        "# 144p\n",
        "#EXT-X-STREAM-INF:BANDWIDTH=150000,RESOLUTION=256x144\n",
        "144p.m3u8\n",
        "\n",
        "# 240p\n",
        "#EXT-X-STREAM-INF:BANDWIDTH=400000,RESOLUTION=426x240\n",
        "240p.m3u8\n",
        "\n",
        "# 360p\n",
        "#EXT-X-STREAM-INF:BANDWIDTH=800000,RESOLUTION=640x360\n",
        "360p.m3u8\n",
        "\n",
        "# 480p\n",
        "#EXT-X-STREAM-INF:BANDWIDTH=1200000,RESOLUTION=854x480\n",
        "480p.m3u8\n",
        "\n",
        "# 720p\n",
        "#EXT-X-STREAM-INF:BANDWIDTH=2500000,RESOLUTION=1280x720\n",
        "720p.m3u8\n",
        "\n",
        "# 1080p\n",
        "#EXT-X-STREAM-INF:BANDWIDTH=5000000,RESOLUTION=1920x1080\n",
        "1080p.m3u8\n",
        "\"\"\"\n",
        "        with open(os.path.join(output_dir, \"master.m3u8\"), \"w\") as f:\n",
        "            f.write(master_playlist)\n",
        "\n",
        "        print(f\"\\n📄 Master playlist created at: {output_dir}/master.m3u8\")\n",
        "        print(f\"✅ Completed processing: {file}\")\n",
        "        print(f\"📦 Output saved to Drive → output_hls/{basename}\")\n",
        "        print(f\"⏱️ Finished at: {time.strftime('%H:%M:%S')}\")\n",
        "        print(f\"==============================\\n\")\n",
        "\n",
        "print(\"\\n🎉 ALL DONE! Check your Google Drive → 'output_hls' folder.\")\n"
      ],
      "metadata": {
        "colab": {
          "base_uri": "https://localhost:8080/"
        },
        "id": "fSM7uMUCgYNC",
        "outputId": "def5f1bd-090d-4dec-d90e-6e073b57ea03"
      },
      "execution_count": null,
      "outputs": [
        {
          "output_type": "stream",
          "name": "stdout",
          "text": [
            "⚙️ Using encoder: h264_nvenc\n",
            "\n",
            "🎞️==============================\n",
            "🎬 Starting HLS Processing for: input_video.mp4\n",
            "📁 Input: /content/drive/MyDrive/input_videos/input_video.mp4\n",
            "📂 Output folder: /content/drive/MyDrive/output_hls/input_video\n",
            "🕒 Started at: 18:34:29\n",
            "==============================\n",
            "\n",
            "🚀 Starting FFmpeg conversion...\n",
            "\n",
            "frame= 3963 fps=5.2 q=22.0 Lq=-1.0 q=-1.0 q=-1.0 q=-1.0 q=-1.0 size=N/A time=00:01:06.09 bitrate=N/A speed=0.087x\n",
            "✅ FFmpeg finished encoding all resolutions.\n",
            "\n",
            "📄 Master playlist created at: /content/drive/MyDrive/output_hls/input_video/master.m3u8\n",
            "✅ Completed processing: input_video.mp4\n",
            "📦 Output saved to Drive → output_hls/input_video\n",
            "⏱️ Finished at: 18:47:12\n",
            "==============================\n",
            "\n",
            "\n",
            "🎉 ALL DONE! Check your Google Drive → 'output_hls' folder.\n"
          ]
        }
      ]
    },
    {
      "cell_type": "code",
      "source": [
        "# ===========================================\n",
        "# 📥 Download video from Google Drive into /input_videos\n",
        "# ===========================================\n",
        "import os, gdown\n",
        "\n",
        "# Define target folder and file path\n",
        "drive_root = \"/content/drive/MyDrive\"\n",
        "input_path = os.path.join(drive_root, \"input_videos\")\n",
        "os.makedirs(input_path, exist_ok=True)\n",
        "\n",
        "# Google Drive share link\n",
        "file_url = \"https://drive.google.com/uc?id=1O0NmMhd4D9OhabU7hk-ZOs2tNCEYDZHO\"\n",
        "output_file = os.path.join(input_path, \"input_video.mp4\")\n",
        "\n",
        "# Download using gdown\n",
        "print(\"⬇️ Downloading video to your Drive input_videos folder...\")\n",
        "gdown.download(file_url, output_file, quiet=False)\n",
        "\n",
        "print(f\"✅ Saved to: {output_file}\")\n"
      ],
      "metadata": {
        "colab": {
          "base_uri": "https://localhost:8080/"
        },
        "id": "syVIUEdhiQwV",
        "outputId": "6432a057-08f7-4cf8-d16b-423974867cd2"
      },
      "execution_count": null,
      "outputs": [
        {
          "output_type": "stream",
          "name": "stdout",
          "text": [
            "⬇️ Downloading video to your Drive input_videos folder...\n"
          ]
        },
        {
          "output_type": "stream",
          "name": "stderr",
          "text": [
            "Downloading...\n",
            "From (original): https://drive.google.com/uc?id=1O0NmMhd4D9OhabU7hk-ZOs2tNCEYDZHO\n",
            "From (redirected): https://drive.google.com/uc?id=1O0NmMhd4D9OhabU7hk-ZOs2tNCEYDZHO&confirm=t&uuid=019a172e-38ad-4d63-a86a-084f0075af01\n",
            "To: /content/drive/MyDrive/input_videos/input_video.mp4\n",
            "100%|██████████| 333M/333M [00:06<00:00, 48.6MB/s]"
          ]
        },
        {
          "output_type": "stream",
          "name": "stdout",
          "text": [
            "✅ Saved to: /content/drive/MyDrive/input_videos/input_video.mp4\n"
          ]
        },
        {
          "output_type": "stream",
          "name": "stderr",
          "text": [
            "\n"
          ]
        }
      ]
    }
  ]
}